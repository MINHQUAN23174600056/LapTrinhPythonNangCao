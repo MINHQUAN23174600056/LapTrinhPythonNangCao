{
 "cells": [
  {
   "cell_type": "markdown",
   "metadata": {},
   "source": [
    "- 1.Đọc dữ liệu từ file CSV"
   ]
  },
  {
   "cell_type": "code",
   "execution_count": 1,
   "metadata": {},
   "outputs": [
    {
     "name": "stdout",
     "output_type": "stream",
     "text": [
      "Dữ liệu điểm số dưới dạng mảng NumPy:\n",
      " [[3.04 3.39 6.7 ]\n",
      " [5.8  6.41 6.62]\n",
      " [2.59 3.57 9.16]\n",
      " [3.81 8.78 9.24]\n",
      " [8.91 9.64 6.39]\n",
      " [3.23 4.72 6.17]\n",
      " [2.35 3.29 6.89]\n",
      " [2.48 3.81 4.84]\n",
      " [3.23 2.61 4.52]\n",
      " [7.02 9.01 9.15]\n",
      " [2.29 4.48 5.51]\n",
      " [3.51 7.19 5.13]\n",
      " [6.74 7.78 6.19]\n",
      " [9.86 4.64 3.33]\n",
      " [8.04 5.12 4.77]\n",
      " [2.74 8.88 5.8 ]\n",
      " [3.04 6.88 3.91]\n",
      " [5.87 4.41 8.84]\n",
      " [8.46 2.63 4.91]\n",
      " [3.74 6.71 3.44]\n",
      " [5.67 8.05 6.03]\n",
      " [8.12 2.46 3.87]\n",
      " [9.4  5.31 5.13]\n",
      " [3.91 5.09 8.82]\n",
      " [4.26 5.78 8.14]\n",
      " [4.41 2.66 5.4 ]\n",
      " [3.23 8.3  8.64]\n",
      " [9.25 8.29 9.1 ]\n",
      " [6.08 2.67 6.39]\n",
      " [3.85 7.71 5.75]]\n"
     ]
    }
   ],
   "source": [
    "import numpy as np \n",
    "import csv\n",
    "file_path = 'C:/17A1DHKL/LAB2/DATA/diem_hoc_phan.csv'\n",
    "data = []\n",
    "with open(file_path, newline='', encoding='utf-8')as csvfile:\n",
    "    reader = csv.reader(csvfile)\n",
    "    next(reader) #bỏ qua tiêu đề cột\n",
    "    for row in reader:\n",
    "        data.append([float(score) for score in row[2:]])\n",
    "        #lặp trong các hàng lấy từ cột 2 trở đi\n",
    "# Chuyển đổi dữ liệu điểm thành mảng NumPy\n",
    "diem_hp = np.array(data, dtype=float)\n",
    "print(\"Dữ liệu điểm số dưới dạng mảng NumPy:\\n\",diem_hp)\n"
   ]
  },
  {
   "cell_type": "markdown",
   "metadata": {},
   "source": [
    "2. Quy đổi từ thang điểm 10 sang điểm tín chỉ"
   ]
  },
  {
   "cell_type": "code",
   "execution_count": 2,
   "metadata": {},
   "outputs": [
    {
     "name": "stdout",
     "output_type": "stream",
     "text": [
      "Điểm tín chỉ cho các học phần:\n",
      " [['F' 'F' 'C+']\n",
      " ['C' 'C' 'C+']\n",
      " ['F' 'F' 'A']\n",
      " ['F' 'A' 'A']\n",
      " ['A' 'A' 'C']\n",
      " ['F' 'D' 'C']\n",
      " ['F' 'F' 'C+']\n",
      " ['F' 'F' 'D']\n",
      " ['F' 'F' 'D']\n",
      " ['B' 'A' 'A']\n",
      " ['F' 'D' 'C']\n",
      " ['F' 'B' 'D+']\n",
      " ['C+' 'B' 'C']\n",
      " ['A' 'D' 'F']\n",
      " ['B+' 'D+' 'D']\n",
      " ['F' 'A' 'C']\n",
      " ['F' 'C+' 'F']\n",
      " ['C' 'D' 'A']\n",
      " ['B+' 'F' 'D']\n",
      " ['F' 'C+' 'F']\n",
      " ['C' 'B+' 'C']\n",
      " ['B+' 'F' 'F']\n",
      " ['A' 'D+' 'D+']\n",
      " ['F' 'D+' 'A']\n",
      " ['D' 'C' 'B+']\n",
      " ['D' 'F' 'D+']\n",
      " ['F' 'B+' 'A']\n",
      " ['A' 'B+' 'A']\n",
      " ['C' 'F' 'C']\n",
      " ['F' 'B' 'C']]\n"
     ]
    }
   ],
   "source": [
    "def quy_doi_diem(diem):\n",
    "    if diem >= 8.5:\n",
    "        return 'A'\n",
    "    elif diem >= 8.0:\n",
    "        return 'B+'\n",
    "    elif diem >= 7.0:\n",
    "        return 'B'\n",
    "    elif diem >= 6.5:\n",
    "        return 'C+'\n",
    "    elif diem >= 5.5:\n",
    "        return 'C'\n",
    "    elif diem >= 5.0:\n",
    "        return 'D+'\n",
    "    elif diem >= 4.0:\n",
    "        return 'D'\n",
    "    else:\n",
    "        return 'F'\n",
    "# Áp dụng qui đổi cho tất cả điểm trong mảng diem_hp\n",
    "diem_tinchi = np.vectorize(quy_doi_diem)(diem_hp)\n",
    "print(\"Điểm tín chỉ cho các học phần:\\n\",diem_tinchi)"
   ]
  },
  {
   "cell_type": "markdown",
   "metadata": {},
   "source": [
    "3. Chia tách dữ liệu theo từng học phần"
   ]
  },
  {
   "cell_type": "code",
   "execution_count": 3,
   "metadata": {},
   "outputs": [
    {
     "name": "stdout",
     "output_type": "stream",
     "text": [
      "\n",
      "Điểm học phần 1: [3.04 5.8  2.59 3.81 8.91 3.23 2.35 2.48 3.23 7.02 2.29 3.51 6.74 9.86\n",
      " 8.04 2.74 3.04 5.87 8.46 3.74 5.67 8.12 9.4  3.91 4.26 4.41 3.23 9.25\n",
      " 6.08 3.85]\n",
      "Điểm học phần 2: [3.39 6.41 3.57 8.78 9.64 4.72 3.29 3.81 2.61 9.01 4.48 7.19 7.78 4.64\n",
      " 5.12 8.88 6.88 4.41 2.63 6.71 8.05 2.46 5.31 5.09 5.78 2.66 8.3  8.29\n",
      " 2.67 7.71]\n",
      "Điểm học phần 3: [6.7  6.62 9.16 9.24 6.39 6.17 6.89 4.84 4.52 9.15 5.51 5.13 6.19 3.33\n",
      " 4.77 5.8  3.91 8.84 4.91 3.44 6.03 3.87 5.13 8.82 8.14 5.4  8.64 9.1\n",
      " 6.39 5.75]\n"
     ]
    }
   ],
   "source": [
    "hp1 = diem_hp[:, 0]  # Điểm HP1\n",
    "hp2 = diem_hp[:, 1]  \n",
    "hp3 = diem_hp[:, 2]  \n",
    "print(\"\\nĐiểm học phần 1:\", hp1)\n",
    "print(\"Điểm học phần 2:\", hp2)\n",
    "print(\"Điểm học phần 3:\", hp3)"
   ]
  },
  {
   "cell_type": "markdown",
   "metadata": {},
   "source": [
    "4. Phân tích dữ liệu theo từng học phần"
   ]
  },
  {
   "cell_type": "code",
   "execution_count": 6,
   "metadata": {},
   "outputs": [
    {
     "name": "stdout",
     "output_type": "stream",
     "text": [
      "\n",
      "Tổng điểm học phần 1: 154.92999999999998, Trung bình: 5.1643333333333326, Độ lệch chuẩn: 2.4078519934211533\n",
      "Tổng điểm học phần 2: 170.27, Trung bình: 5.675666666666667, Độ lệch chuẩn: 2.2494765070023637\n",
      "Tổng điểm học phần 3: 188.78, Trung bình: 6.292666666666666, Độ lệch chuẩn: 1.8082292135923723\n"
     ]
    }
   ],
   "source": [
    "# Phân tích tổng, trung bình và độ lệch chuẩn cho từng học phần\n",
    "tongs_hp1 = np.sum(hp1)\n",
    "tongs_hp2 = np.sum(hp2)\n",
    "tongs_hp3 = np.sum(hp3)\n",
    "\n",
    "avg_hp1 = np.mean(hp1)\n",
    "avg_hp2 = np.mean(hp2)\n",
    "avg_hp3 = np.mean(hp3)\n",
    "\n",
    "std_hp1 = np.std(hp1)\n",
    "std_hp2 = np.std(hp2)\n",
    "std_hp3 = np.std(hp3)\n",
    "print(f\"\\nTổng điểm học phần 1: {tongs_hp1}, Trung bình: {avg_hp1}, Độ lệch chuẩn: {std_hp1}\")\n",
    "print(f\"Tổng điểm học phần 2: {tongs_hp2}, Trung bình: {avg_hp2}, Độ lệch chuẩn: {std_hp2}\")\n",
    "print(f\"Tổng điểm học phần 3: {tongs_hp3}, Trung bình: {avg_hp3}, Độ lệch chuẩn: {std_hp3}\")"
   ]
  },
  {
   "cell_type": "markdown",
   "metadata": {},
   "source": [
    "5. Phân tích điểm tổng hợp"
   ]
  },
  {
   "cell_type": "code",
   "execution_count": 5,
   "metadata": {},
   "outputs": [
    {
     "name": "stdout",
     "output_type": "stream",
     "text": [
      "Số lượng sinh viên đạt mỗi loại điểm chữ:\n",
      "F: 28\n",
      "C+: 6\n",
      "C: 14\n",
      "A: 15\n",
      "D: 10\n",
      "B: 4\n",
      "D+: 6\n",
      "B+: 7\n"
     ]
    }
   ],
   "source": [
    "from collections import Counter\n",
    "\n",
    "# Chuyển đổi các điểm tín chỉ thành mảng 1 chiều\n",
    "flat_diem_tinchi = diem_tinchi.flatten()\n",
    "# Tính số lượng sinh viên đạt mỗi loại điểm chữ trên tổng số học phần\n",
    "counter = Counter(flat_diem_tinchi)\n",
    "print(\"Số lượng sinh viên đạt mỗi loại điểm chữ trên tổng số học phần:\")\n",
    "for grade, count in counter.items():\n",
    "    print(f\"{grade}: {count}\")"
   ]
  }
 ],
 "metadata": {
  "kernelspec": {
   "display_name": "Python 3",
   "language": "python",
   "name": "python3"
  },
  "language_info": {
   "codemirror_mode": {
    "name": "ipython",
    "version": 3
   },
   "file_extension": ".py",
   "mimetype": "text/x-python",
   "name": "python",
   "nbconvert_exporter": "python",
   "pygments_lexer": "ipython3",
   "version": "3.13.0"
  }
 },
 "nbformat": 4,
 "nbformat_minor": 2
}
