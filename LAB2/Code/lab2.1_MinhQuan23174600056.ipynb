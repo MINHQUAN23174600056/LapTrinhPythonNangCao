{
 "cells": [
  {
   "cell_type": "markdown",
   "metadata": {},
   "source": [
    "# 1.Tạo dữ liệu mô phỏng nhiệt độ \n",
    "- Cho biết nhiệt độ trung bình trong tháng "
   ]
  },
  {
   "cell_type": "code",
   "execution_count": 1,
   "metadata": {},
   "outputs": [
    {
     "name": "stdout",
     "output_type": "stream",
     "text": [
      "Nhiệt độ trung bình trong tháng là 25.46 độ C\n"
     ]
    }
   ],
   "source": [
    "import numpy as np\n",
    "np.random.uniform(40)\n",
    "temperature = np.round(np.random.uniform(low=10,high=35,size=30),2)\n",
    "avg_tem = np.mean(temperature)\n",
    "print(f\"Nhiệt độ trung bình trong tháng là {avg_tem:.2f} độ C\")"
   ]
  },
  {
   "cell_type": "markdown",
   "metadata": {},
   "source": [
    "# 2.Phân tích xu hướng nhiệt độ\n",
    "- Xác định ngày có nhiệt độ cao, thấp nhất, cho biết đó là ngày thứ mấy trong tháng"
   ]
  },
  {
   "cell_type": "code",
   "execution_count": 2,
   "metadata": {},
   "outputs": [
    {
     "name": "stdout",
     "output_type": "stream",
     "text": [
      "Nhiệt độ ngày cao nhất trong tháng là 34.05\n",
      "Ngày có nhiệt độ cao nhất là 12\n",
      "Nhiệt độ ngày thấp nhất trong tháng là 11.18\n",
      "Ngày có nhiệt độ thấp nhất là 8\n"
     ]
    }
   ],
   "source": [
    "max_temp = np.max(temperature)\n",
    "min_temp = np.min(temperature)\n",
    "#Xác định ngày có nhiệt độ cao và thấp nhất\n",
    "day_max_temp = np.argmax(temperature) + 1\n",
    "day_min_temp = np.argmin(temperature) + 1\n",
    "print(f\"Nhiệt độ ngày cao nhất trong tháng là {max_temp}\")\n",
    "print(f\"Ngày có nhiệt độ cao nhất là {day_max_temp}\")\n",
    "print(f\"Nhiệt độ ngày thấp nhất trong tháng là {min_temp}\")\n",
    "print(f\"Ngày có nhiệt độ thấp nhất là {day_min_temp}\")"
   ]
  },
  {
   "cell_type": "markdown",
   "metadata": {},
   "source": [
    "- Thống kê sự chênh lệch nhiệt độ giữa các ngày, ngày có sự biến đổi nhiệt độ cao nhất?"
   ]
  },
  {
   "cell_type": "code",
   "execution_count": 3,
   "metadata": {},
   "outputs": [],
   "source": [
    "# Tạo mảng chứa nhiệt độ của ngày hôm trước(trừ ngày cuối cùng) của mảng nhiệt độ\n",
    "ngay_truoc = temperature[:-1]\n",
    "# Tạo mảng chứa nhiệt độ của ngày hôm sau(trừ ngày đầu tiên) của mảng nhiệt độ\n",
    "ngay_sau = temperature[1:]"
   ]
  },
  {
   "cell_type": "markdown",
   "metadata": {},
   "source": [
    "# 3.Áp dụng Fancy Indexing\n",
    "- Tất cả các ngày có nhiệt độ > 20"
   ]
  },
  {
   "cell_type": "code",
   "execution_count": 4,
   "metadata": {},
   "outputs": [
    {
     "name": "stdout",
     "output_type": "stream",
     "text": [
      "Nhiệt độ các ngày có nhiệt độ > 20 độ C: (array([ 0,  1,  2,  3,  5,  6,  8,  9, 10, 11, 13, 14, 15, 16, 17, 18, 19,\n",
      "       20, 24, 25, 27, 29]),)\n"
     ]
    }
   ],
   "source": [
    "condition = temperature > 20\n",
    "indices = np.where(condition) \n",
    "print(f\"Nhiệt độ các ngày có nhiệt độ > 20 độ C: {indices}\")"
   ]
  },
  {
   "cell_type": "markdown",
   "metadata": {},
   "source": [
    "- Nhiệt độ của ngày 5, 10, 15, 20, 25"
   ]
  },
  {
   "cell_type": "code",
   "execution_count": 5,
   "metadata": {},
   "outputs": [
    {
     "name": "stdout",
     "output_type": "stream",
     "text": [
      "Nhiệt độ của ngày 5, 10, 15, 20, 25: [16.8  27.88 33.41 29.12 27.21]\n"
     ]
    }
   ],
   "source": [
    "specific_days = temperature[[4, 9, 14, 19, 24]] \n",
    "print(f\"Nhiệt độ của ngày 5, 10, 15, 20, 25: {specific_days}\")"
   ]
  },
  {
   "cell_type": "markdown",
   "metadata": {},
   "source": [
    "- Tìm nhiệt độ của các ngày có nhiệt độ trên trung bình"
   ]
  },
  {
   "cell_type": "code",
   "execution_count": 6,
   "metadata": {},
   "outputs": [
    {
     "name": "stdout",
     "output_type": "stream",
     "text": [
      "Nhiệt độ của các ngày có nhiệt độ > trung bình: [28.05 30.28 30.63 33.02 32.33 32.65 27.88 30.78 34.05 25.47 33.41 26.71\n",
      " 33.36 30.17 29.12 27.21 30.72 31.52]\n"
     ]
    }
   ],
   "source": [
    "above_avg = temperature[temperature > avg_tem] \n",
    "print(f\"Nhiệt độ của các ngày có nhiệt độ > trung bình: {above_avg}\")"
   ]
  },
  {
   "cell_type": "markdown",
   "metadata": {},
   "source": [
    "- Lấy nhiệt độ của các ngày chẵn/lẻ trong tháng"
   ]
  },
  {
   "cell_type": "code",
   "execution_count": 7,
   "metadata": {},
   "outputs": [
    {
     "name": "stdout",
     "output_type": "stream",
     "text": [
      "Nhiệt độ các ngày chẵn trong tháng: [28.05 30.63 16.8  24.63 32.65 30.78 16.64 33.41 26.71 30.17 25.22 14.27\n",
      " 27.21 17.1  12.36]\n",
      "Nhiệt độ các ngày lẻ trong tháng: [30.28 33.02 32.33 11.18 27.88 34.05 25.47 20.79 33.36 29.12 18.67 15.45\n",
      " 30.72 23.39 31.52]\n"
     ]
    }
   ],
   "source": [
    "even_days = temperature[::2] \n",
    "#lấy giá trị của các phần tử tại các chỉ số chẵn bắt đầu từ 0 <=> ngày 1\n",
    "odd_days = temperature[1::2] \n",
    "#bắt đầu từ chỉ số 1 và chọn các 2 phần tử số lẻ\n",
    "print(f\"Nhiệt độ các ngày chẵn trong tháng: {even_days}\")\n",
    "print(f\"Nhiệt độ các ngày lẻ trong tháng: {odd_days}\")"
   ]
  }
 ],
 "metadata": {
  "kernelspec": {
   "display_name": "Python 3",
   "language": "python",
   "name": "python3"
  },
  "language_info": {
   "codemirror_mode": {
    "name": "ipython",
    "version": 3
   },
   "file_extension": ".py",
   "mimetype": "text/x-python",
   "name": "python",
   "nbconvert_exporter": "python",
   "pygments_lexer": "ipython3",
   "version": "3.13.0"
  }
 },
 "nbformat": 4,
 "nbformat_minor": 2
}
