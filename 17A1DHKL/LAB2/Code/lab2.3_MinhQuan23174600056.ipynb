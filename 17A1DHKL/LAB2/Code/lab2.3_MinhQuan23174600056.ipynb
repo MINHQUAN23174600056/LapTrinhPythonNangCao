{
 "cells": [
  {
   "cell_type": "markdown",
   "metadata": {},
   "source": [
    "- 1.Đọc dữ liệu từ 2 tập tin efficiency.txt và shifts.txt vào 2 list là effieiency và shifts "
   ]
  },
  {
   "cell_type": "code",
   "execution_count": 2,
   "metadata": {},
   "outputs": [],
   "source": [
    "import numpy as np\n",
    "efficiency_file = 'C:/17A1DHKL/LAB2/DATA/efficiency.txt'\n",
    "shifts_file = 'C:/17A1DHKL/LAB2/DATA/shifts.txt'\n",
    "with open(efficiency_file, 'r') as f_efficiency:\n",
    "    efficiency = [int(line.strip()) for line in f_efficiency]\n",
    "with open(shifts_file, 'r') as f_shifts:\n",
    "    shifts = [line.strip() for line in f_shifts]"
   ]
  },
  {
   "cell_type": "markdown",
   "metadata": {},
   "source": [
    "2. Tạo numpy array np_shifts từ list shifts và kiểm tra kiểu dữ liệu của np_shifts"
   ]
  },
  {
   "cell_type": "code",
   "execution_count": 3,
   "metadata": {},
   "outputs": [
    {
     "name": "stdout",
     "output_type": "stream",
     "text": [
      "<U9\n"
     ]
    }
   ],
   "source": [
    "np_shifts = np.array(shifts)\n",
    "print(np_shifts.dtype)"
   ]
  },
  {
   "cell_type": "markdown",
   "metadata": {},
   "source": [
    "3. Tạo  numpy  array  np_efficiency  từ  list  efficiency  và  kiểm  tra  kiểu  dữ  liệu  của \n",
    "np_efficiency"
   ]
  },
  {
   "cell_type": "code",
   "execution_count": 4,
   "metadata": {},
   "outputs": [
    {
     "name": "stdout",
     "output_type": "stream",
     "text": [
      "int64\n"
     ]
    }
   ],
   "source": [
    "np_efficiency = np.array(efficiency)\n",
    "print(np_efficiency.dtype)"
   ]
  },
  {
   "cell_type": "markdown",
   "metadata": {},
   "source": [
    "4. Tính hiệu suất sản xuất trung bình của những nhân viên làm việc vào ca 'Morning'"
   ]
  },
  {
   "cell_type": "code",
   "execution_count": 5,
   "metadata": {},
   "outputs": [
    {
     "name": "stdout",
     "output_type": "stream",
     "text": [
      "Hiệu suất trung bình ca 'Morning': 96.8529411764706\n"
     ]
    }
   ],
   "source": [
    "# Lọc các chỉ số ca làm việc là 'Morning'\n",
    "morning_indices = np.where(np_shifts == 'Morning')\n",
    "# Lấy hiệu suất của các nhân viên làm việc vào ca 'Morning'\n",
    "morning_efficiency = np_efficiency[morning_indices]\n",
    "average_morning_efficiency = np.mean(morning_efficiency)\n",
    "print(\"Hiệu suất trung bình ca 'Morning':\", average_morning_efficiency)\n"
   ]
  },
  {
   "cell_type": "markdown",
   "metadata": {},
   "source": [
    "5. Tính hiệu suất sản xuất trung bình của những nhân viên làm việc trong các ca khác"
   ]
  },
  {
   "cell_type": "code",
   "execution_count": 6,
   "metadata": {},
   "outputs": [
    {
     "name": "stdout",
     "output_type": "stream",
     "text": [
      "Hiệu suất trung bình các ca khác: 98.93939393939394\n"
     ]
    }
   ],
   "source": [
    "# Lọc các chỉ số không phải ca 'Morning'\n",
    "other_indices = np.where(np_shifts != 'Morning')\n",
    "\n",
    "# Lấy hiệu suất của các nhân viên làm việc trong các ca khác\n",
    "other_efficiency = np_efficiency[other_indices]\n",
    "average_other_efficiency = np.mean(other_efficiency)\n",
    "print(\"Hiệu suất trung bình các ca khác:\", average_other_efficiency)"
   ]
  },
  {
   "cell_type": "markdown",
   "metadata": {},
   "source": [
    "6. Tạo mảng dữ liệu có cấu trúc (Structure Array  tự định nghĩa  workers gồm 'shift' (kiểu \n",
    "văn bản U10) và 'efficiency')"
   ]
  },
  {
   "cell_type": "code",
   "execution_count": 7,
   "metadata": {},
   "outputs": [
    {
     "name": "stdout",
     "output_type": "stream",
     "text": [
      "Mảng cấu trúc workers:\n",
      " [('Afternoon',  94.) ('Afternoon',  97.) ('Afternoon', 114.)\n",
      " ('Morning', 117.) ('Afternoon', 117.) ('Night',  59.) ('Morning', 133.)\n",
      " ('Afternoon',  71.) ('Night',  86.) ('Morning', 137.) ('Night', 120.)\n",
      " ('Morning', 138.) ('Afternoon', 138.) ('Night',  62.) ('Night', 108.)\n",
      " ('Afternoon', 115.) ('Morning',  89.) ('Afternoon', 137.)\n",
      " ('Afternoon',  96.) ('Morning', 138.) ('Night', 131.) ('Night',  87.)\n",
      " ('Night',  75.) ('Night', 127.) ('Afternoon', 122.) ('Night',  59.)\n",
      " ('Night',  70.) ('Night', 130.) ('Night', 119.) ('Night', 129.)\n",
      " ('Morning',  97.) ('Afternoon', 114.) ('Night', 132.) ('Night', 149.)\n",
      " ('Afternoon', 138.) ('Night',  99.) ('Afternoon',  79.) ('Morning',  69.)\n",
      " ('Night',  69.) ('Night',  64.) ('Morning',  89.) ('Night',  82.)\n",
      " ('Morning', 115.) ('Morning',  59.) ('Night', 107.) ('Morning',  82.)\n",
      " ('Night',  81.) ('Night', 124.) ('Night',  73.) ('Morning',  85.)\n",
      " ('Morning', 125.) ('Morning', 105.) ('Afternoon',  78.) ('Night',  84.)\n",
      " ('Morning',  50.) ('Afternoon',  50.) ('Night',  86.) ('Night', 103.)\n",
      " ('Night',  55.) ('Afternoon',  88.) ('Morning',  67.) ('Morning', 129.)\n",
      " ('Morning',  54.) ('Morning',  92.) ('Night', 108.) ('Night',  81.)\n",
      " ('Morning',  51.) ('Morning', 115.) ('Morning',  91.) ('Afternoon', 107.)\n",
      " ('Night',  85.) ('Morning',  61.) ('Morning',  96.) ('Afternoon', 132.)\n",
      " ('Morning', 141.) ('Night',  50.) ('Afternoon',  64.) ('Afternoon', 149.)\n",
      " ('Afternoon', 103.) ('Morning',  62.) ('Morning',  92.) ('Morning', 134.)\n",
      " ('Afternoon', 125.) ('Afternoon', 118.) ('Night',  56.)\n",
      " ('Afternoon', 118.) ('Morning',  97.) ('Morning',  53.)\n",
      " ('Afternoon', 126.) ('Night', 102.) ('Afternoon', 128.)\n",
      " ('Afternoon',  65.) ('Afternoon',  70.) ('Morning', 149.)\n",
      " ('Morning', 108.) ('Morning',  73.) ('Afternoon', 129.) ('Night',  63.)\n",
      " ('Afternoon', 135.) ('Afternoon',  98.)]\n"
     ]
    }
   ],
   "source": [
    "# Định nghĩa cấu trúc dữ liệu\n",
    "dtype = [('shift', 'U10'), ('efficiency', 'float')]\n",
    "# Tạo mảng cấu trúc\n",
    "workers = np.array(list(zip(np_shifts, np_efficiency)), dtype=dtype)\n",
    "print(\"Mảng cấu trúc workers:\\n\", workers)"
   ]
  },
  {
   "cell_type": "markdown",
   "metadata": {},
   "source": [
    "7. Sắp xếp mảng workers theo efficiency, và xác định ca làm việc nào có hiệu suất cao nhất \n",
    "và thấp nhất"
   ]
  },
  {
   "cell_type": "code",
   "execution_count": 8,
   "metadata": {},
   "outputs": [
    {
     "name": "stdout",
     "output_type": "stream",
     "text": [
      "Mảng sau khi sắp xếp: [('Afternoon',  50.) ('Morning',  50.) ('Night',  50.) ('Morning',  51.)\n",
      " ('Morning',  53.) ('Morning',  54.) ('Night',  55.) ('Night',  56.)\n",
      " ('Morning',  59.) ('Night',  59.) ('Night',  59.) ('Morning',  61.)\n",
      " ('Morning',  62.) ('Night',  62.) ('Night',  63.) ('Afternoon',  64.)\n",
      " ('Night',  64.) ('Afternoon',  65.) ('Morning',  67.) ('Morning',  69.)\n",
      " ('Night',  69.) ('Afternoon',  70.) ('Night',  70.) ('Afternoon',  71.)\n",
      " ('Morning',  73.) ('Night',  73.) ('Night',  75.) ('Afternoon',  78.)\n",
      " ('Afternoon',  79.) ('Night',  81.) ('Night',  81.) ('Morning',  82.)\n",
      " ('Night',  82.) ('Night',  84.) ('Morning',  85.) ('Night',  85.)\n",
      " ('Night',  86.) ('Night',  86.) ('Night',  87.) ('Afternoon',  88.)\n",
      " ('Morning',  89.) ('Morning',  89.) ('Morning',  91.) ('Morning',  92.)\n",
      " ('Morning',  92.) ('Afternoon',  94.) ('Afternoon',  96.)\n",
      " ('Morning',  96.) ('Afternoon',  97.) ('Morning',  97.) ('Morning',  97.)\n",
      " ('Afternoon',  98.) ('Night',  99.) ('Night', 102.) ('Afternoon', 103.)\n",
      " ('Night', 103.) ('Morning', 105.) ('Afternoon', 107.) ('Night', 107.)\n",
      " ('Morning', 108.) ('Night', 108.) ('Night', 108.) ('Afternoon', 114.)\n",
      " ('Afternoon', 114.) ('Afternoon', 115.) ('Morning', 115.)\n",
      " ('Morning', 115.) ('Afternoon', 117.) ('Morning', 117.)\n",
      " ('Afternoon', 118.) ('Afternoon', 118.) ('Night', 119.) ('Night', 120.)\n",
      " ('Afternoon', 122.) ('Night', 124.) ('Afternoon', 125.) ('Morning', 125.)\n",
      " ('Afternoon', 126.) ('Night', 127.) ('Afternoon', 128.)\n",
      " ('Afternoon', 129.) ('Morning', 129.) ('Night', 129.) ('Night', 130.)\n",
      " ('Night', 131.) ('Afternoon', 132.) ('Night', 132.) ('Morning', 133.)\n",
      " ('Morning', 134.) ('Afternoon', 135.) ('Afternoon', 137.)\n",
      " ('Morning', 137.) ('Afternoon', 138.) ('Afternoon', 138.)\n",
      " ('Morning', 138.) ('Morning', 138.) ('Morning', 141.) ('Afternoon', 149.)\n",
      " ('Morning', 149.) ('Night', 149.)]\n",
      "Ca làm việc có hiệu suất thấp nhất: ('Afternoon', 50.0)\n",
      "Ca làm việc có hiệu suất cao nhất: ('Night', 149.0)\n"
     ]
    }
   ],
   "source": [
    "# Sắp xếp mảng workers theo efficiency\n",
    "sorted_workers = np.sort(workers, order='efficiency')\n",
    "print(\"Mảng sau khi sắp xếp:\", sorted_workers)\n",
    "lowest_efficiency = sorted_workers[0]\n",
    "highest_efficiency = sorted_workers[-1]\n",
    "print(\"Ca làm việc có hiệu suất thấp nhất:\", lowest_efficiency)\n",
    "print(\"Ca làm việc có hiệu suất cao nhất:\", highest_efficiency)\n"
   ]
  }
 ],
 "metadata": {
  "kernelspec": {
   "display_name": "Python 3",
   "language": "python",
   "name": "python3"
  },
  "language_info": {
   "codemirror_mode": {
    "name": "ipython",
    "version": 3
   },
   "file_extension": ".py",
   "mimetype": "text/x-python",
   "name": "python",
   "nbconvert_exporter": "python",
   "pygments_lexer": "ipython3",
   "version": "3.13.0"
  }
 },
 "nbformat": 4,
 "nbformat_minor": 2
}
