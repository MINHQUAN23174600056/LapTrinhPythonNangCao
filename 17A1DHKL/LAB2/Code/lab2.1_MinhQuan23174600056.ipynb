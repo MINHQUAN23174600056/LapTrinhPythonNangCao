{
 "cells": [
  {
   "cell_type": "markdown",
   "metadata": {},
   "source": [
    "# 1.Tạo dữ liệu mô phỏng nhiệt độ \n",
    "- Cho biết nhiệt độ trung bình trong tháng "
   ]
  },
  {
   "cell_type": "code",
   "execution_count": 2,
   "metadata": {},
   "outputs": [
    {
     "name": "stdout",
     "output_type": "stream",
     "text": [
      "Nhiệt độ trung bình trong tháng là 22.17 độ C\n"
     ]
    }
   ],
   "source": [
    "import numpy as np\n",
    "np.random.uniform(40)\n",
    "temperature = np.round(np.random.uniform(low=10,high=35,size=30),2)\n",
    "avg_tem = np.mean(temperature)\n",
    "print(f\"Nhiệt độ trung bình trong tháng là {avg_tem:.2f} độ C\")"
   ]
  },
  {
   "cell_type": "markdown",
   "metadata": {},
   "source": [
    "# 2.Phân tích xu hướng nhiệt độ\n",
    "- Xác định ngày có nhiệt độ cao, thấp nhất, cho biết đó là ngày thứ mấy trong tháng"
   ]
  },
  {
   "cell_type": "code",
   "execution_count": 3,
   "metadata": {},
   "outputs": [
    {
     "name": "stdout",
     "output_type": "stream",
     "text": [
      "Nhiệt độ ngày cao nhất trong tháng là 33.98\n",
      "Ngày có nhiệt độ cao nhất là 7\n",
      "Nhiệt độ ngày thấp nhất trong tháng là 11.82\n",
      "Ngày có nhiệt độ thấp nhất là 26\n"
     ]
    }
   ],
   "source": [
    "max_temp = np.max(temperature)\n",
    "min_temp = np.min(temperature)\n",
    "#Xác định ngày có nhiệt độ cao và thấp nhất\n",
    "day_max_temp = np.argmax(temperature) + 1 \n",
    "day_min_temp = np.argmin(temperature) + 1\n",
    "print(f\"Nhiệt độ ngày cao nhất trong tháng là {max_temp}\")\n",
    "print(f\"Ngày có nhiệt độ cao nhất là {day_max_temp}\")\n",
    "print(f\"Nhiệt độ ngày thấp nhất trong tháng là {min_temp}\")\n",
    "print(f\"Ngày có nhiệt độ thấp nhất là {day_min_temp}\")"
   ]
  },
  {
   "cell_type": "markdown",
   "metadata": {},
   "source": [
    "- Thống kê sự chênh lệch nhiệt độ giữa các ngày, ngày có sự biến đổi nhiệt độ cao nhất?"
   ]
  },
  {
   "cell_type": "code",
   "execution_count": 4,
   "metadata": {},
   "outputs": [
    {
     "name": "stdout",
     "output_type": "stream",
     "text": [
      "Sự chênh lệch nhiệt độ giữa các ngày: [ 2.72  6.14 12.05  6.58 12.44 21.02 10.72  2.37  7.19 11.76 11.77  2.58\n",
      " 11.51 17.58  6.54  8.02 11.89  1.05  7.11  2.74  2.11  4.83  9.01 10.93\n",
      "  1.39 18.09 16.48 10.23 11.17]\n",
      "Ngày có sự biến đổi nhiệt độ cao nhất là ngày 6, với mức chênh lệch 21.019999999999996°C\n"
     ]
    }
   ],
   "source": [
    "# Tạo mảng chứa nhiệt độ của ngày hôm trước(trừ ngày cuối cùng) của mảng nhiệt độ\n",
    "ngay_truoc = temperature[:-1]\n",
    "# Tạo mảng chứa nhiệt độ của ngày hôm sau(trừ ngày đầu tiên) của mảng nhiệt độ\n",
    "ngay_sau = temperature[1:]\n",
    "chenh_lech = np.abs(ngay_sau - ngay_truoc)\n",
    "# Tìm giá trị chênh lệch lớn nhất\n",
    "max_chenh_lech = np.max(chenh_lech)\n",
    "# Tìm chỉ số(vị trí) của ngày có chênh lệch cao nhất \n",
    "ngay_bien_doi_nhieu_nhat = np.argmax(chenh_lech)\n",
    "print(f\"Sự chênh lệch nhiệt độ giữa các ngày: {chenh_lech}\")\n",
    "print(f\"Ngày có sự biến đổi nhiệt độ cao nhất là ngày {ngay_bien_doi_nhieu_nhat + 1}, với mức chênh lệch {max_chenh_lech}°C\")"
   ]
  },
  {
   "cell_type": "markdown",
   "metadata": {},
   "source": [
    "# 3.Áp dụng Fancy Indexing\n",
    "- Tất cả các ngày có nhiệt độ > 20"
   ]
  },
  {
   "cell_type": "code",
   "execution_count": 5,
   "metadata": {},
   "outputs": [
    {
     "name": "stdout",
     "output_type": "stream",
     "text": [
      "Nhiệt độ các ngày có nhiệt độ > 20 độ C: (array([ 0,  1,  3,  4,  6,  7,  8,  9, 11, 12, 14, 15, 16, 17, 18, 23, 26,\n",
      "       28]),)\n"
     ]
    }
   ],
   "source": [
    "condition = temperature > 20\n",
    "indices = np.where(condition) \n",
    "print(f\"Nhiệt độ các ngày có nhiệt độ > 20 độ C: {indices}\")"
   ]
  },
  {
   "cell_type": "markdown",
   "metadata": {},
   "source": [
    "- Nhiệt độ của ngày 5, 10, 15, 20, 25"
   ]
  },
  {
   "cell_type": "code",
   "execution_count": 6,
   "metadata": {},
   "outputs": [
    {
     "name": "stdout",
     "output_type": "stream",
     "text": [
      "Nhiệt độ của ngày 5, 10, 15, 20, 25: [25.4  28.08 31.58 15.11 13.21]\n"
     ]
    }
   ],
   "source": [
    "specific_days = temperature[[4, 9, 14, 19, 24]] \n",
    "print(f\"Nhiệt độ của ngày 5, 10, 15, 20, 25: {specific_days}\")"
   ]
  },
  {
   "cell_type": "markdown",
   "metadata": {},
   "source": [
    "- Tìm nhiệt độ của các ngày có nhiệt độ trên trung bình"
   ]
  },
  {
   "cell_type": "code",
   "execution_count": 7,
   "metadata": {},
   "outputs": [
    {
     "name": "stdout",
     "output_type": "stream",
     "text": [
      "Nhiệt độ của các ngày có nhiệt độ > trung bình: [28.79 26.07 31.98 25.4  33.98 23.26 28.08 28.09 25.51 31.58 25.04 33.06\n",
      " 22.22 24.14 29.91 23.66]\n"
     ]
    }
   ],
   "source": [
    "above_avg = temperature[temperature > avg_tem] \n",
    "print(f\"Nhiệt độ của các ngày có nhiệt độ > trung bình: {above_avg}\")"
   ]
  },
  {
   "cell_type": "markdown",
   "metadata": {},
   "source": [
    "- Lấy nhiệt độ của các ngày chẵn/lẻ trong tháng"
   ]
  },
  {
   "cell_type": "code",
   "execution_count": 8,
   "metadata": {},
   "outputs": [
    {
     "name": "stdout",
     "output_type": "stream",
     "text": [
      "Nhiệt độ các ngày chẵn trong tháng: [28.79 19.93 25.4  33.98 20.89 16.32 25.51 31.58 33.06 22.22 17.85 15.13\n",
      " 13.21 29.91 23.66]\n",
      "Nhiệt độ các ngày lẻ trong tháng: [26.07 31.98 12.96 23.26 28.08 28.09 14.   25.04 21.17 15.11 19.96 24.14\n",
      " 11.82 13.43 12.49]\n"
     ]
    }
   ],
   "source": [
    "even_days = temperature[::2] \n",
    "#lấy giá trị của các phần tử tại các chỉ số chẵn bắt đầu từ 0 <=> ngày 1\n",
    "odd_days = temperature[1::2] \n",
    "#bắt đầu từ chỉ số 1 và chọn các 2 phần tử số lẻ\n",
    "print(f\"Nhiệt độ các ngày chẵn trong tháng: {even_days}\")\n",
    "print(f\"Nhiệt độ các ngày lẻ trong tháng: {odd_days}\")"
   ]
  }
 ],
 "metadata": {
  "kernelspec": {
   "display_name": "Python 3",
   "language": "python",
   "name": "python3"
  },
  "language_info": {
   "codemirror_mode": {
    "name": "ipython",
    "version": 3
   },
   "file_extension": ".py",
   "mimetype": "text/x-python",
   "name": "python",
   "nbconvert_exporter": "python",
   "pygments_lexer": "ipython3",
   "version": "3.13.0"
  }
 },
 "nbformat": 4,
 "nbformat_minor": 2
}
