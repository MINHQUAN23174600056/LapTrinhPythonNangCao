{
 "cells": [
  {
   "cell_type": "markdown",
   "metadata": {},
   "source": [
    "# LAB 3.5: SỬ DỤNG MULTIINDEX VÀ GROUPBY\n",
    "1. Tạo MultiIndex cho DataFrame stocks bằng cách sử dụng cột date và symbol làm \n",
    "chỉ mục"
   ]
  },
  {
   "cell_type": "code",
   "execution_count": 1,
   "metadata": {},
   "outputs": [],
   "source": [
    "import pandas as pd\n",
    "stocks1 = pd.read_csv('C:/17A1DHKL/LAB3/DATA/stocks1.csv')\n",
    "stocks2 = pd.read_csv('C:/17A1DHKL/LAB3/DATA/stocks2.csv')\n",
    "stocks = pd.concat([stocks1, stocks2], ignore_index=True)\n",
    "stocks.set_index(['date', 'symbol'], inplace=True)"
   ]
  },
  {
   "cell_type": "markdown",
   "metadata": {},
   "source": [
    "2. Sử dụng GroupBy để tính giá trung bình (open, high, low, close) và volume trung \n",
    "bình cho mỗi ngày, cho mỗi mã chứng khoán"
   ]
  },
  {
   "cell_type": "code",
   "execution_count": 3,
   "metadata": {},
   "outputs": [
    {
     "name": "stdout",
     "output_type": "stream",
     "text": [
      "                    open       high      low    close      volume\n",
      "date     symbol                                                  \n",
      "01-03-19 AAPL     174.28   175.1500   172.89   174.97  25886167.0\n",
      "         AMZN    1655.13  1674.2600  1651.00  1671.73   4974877.0\n",
      "         FB       162.60   163.1320   161.69   162.28  11097770.0\n",
      "         GOOG    1124.90  1142.9700  1124.75  1140.99   1450316.0\n",
      "         TSLA     306.94   307.1300   291.90   294.79  22911375.0\n",
      "04-03-19 AAPL     175.69   177.7500   173.97   175.85  27436203.0\n",
      "         AMZN    1685.00  1709.4300  1674.36  1696.17   6167358.0\n",
      "         FB       163.90   167.5000   163.83   167.37  18894689.0\n",
      "         GOOG    1146.99  1158.2800  1130.69  1147.80   1446047.0\n",
      "         TSLA     298.12   299.0000   282.78   285.36  17096818.0\n",
      "05-03-19 AAPL     175.94   176.0000   174.54   175.53  19737419.0\n",
      "         AMZN    1702.95  1707.8000  1689.01  1692.43   3681522.0\n",
      "         FB       167.37   171.8800   166.55   171.26  28187890.0\n",
      "         GOOG    1150.06        NaN      NaN  1162.03   1443174.0\n",
      "         TSLA     282.00   284.0000   270.10   276.54  18764740.0\n",
      "06-03-19 AAPL     174.67   175.4900   173.94   174.52  20810384.0\n",
      "         AMZN    1695.97        NaN      NaN  1668.95   3996001.0\n",
      "         FB       172.90   173.5700   171.27   172.51  21531723.0\n",
      "         GOOG    1162.49  1167.5700  1155.49  1157.86   1099289.0\n",
      "         TSLA     276.48   281.5058   274.39   276.24  10335485.0\n",
      "07-03-19 AAPL     173.87   174.4400   172.02   172.50  24796374.0\n",
      "         AMZN    1667.37  1669.7500  1620.51  1625.95   4957017.0\n",
      "         FB       171.50   171.7400   167.61   169.13  18306504.0\n",
      "         GOOG    1155.72  1156.7600  1134.91  1143.30   1166559.0\n",
      "         TSLA     278.84   284.7000   274.25   276.59   9442483.0\n"
     ]
    }
   ],
   "source": [
    "grouped_stocks = stocks.groupby(['date', 'symbol'])[['open', 'high', 'low', 'close', 'volume']].mean()\n",
    "print(grouped_stocks)"
   ]
  },
  {
   "cell_type": "markdown",
   "metadata": {},
   "source": [
    "3. Sắp xếp dữ liệu theo ngày và mã chứng khoán và hiển thị 5 dòng đầu tiên"
   ]
  },
  {
   "cell_type": "code",
   "execution_count": 6,
   "metadata": {},
   "outputs": [
    {
     "name": "stdout",
     "output_type": "stream",
     "text": [
      "                    open      high      low    close      volume\n",
      "date     symbol                                                 \n",
      "01-03-19 AAPL     174.28   175.150   172.89   174.97  25886167.0\n",
      "         AMZN    1655.13  1674.260  1651.00  1671.73   4974877.0\n",
      "         FB       162.60   163.132   161.69   162.28  11097770.0\n",
      "         GOOG    1124.90  1142.970  1124.75  1140.99   1450316.0\n",
      "         TSLA     306.94   307.130   291.90   294.79  22911375.0\n"
     ]
    }
   ],
   "source": [
    "sorted_stocks = grouped_stocks.sort_index(level=['date', 'symbol'])\n",
    "print(sorted_stocks.head())"
   ]
  }
 ],
 "metadata": {
  "kernelspec": {
   "display_name": "Python 3",
   "language": "python",
   "name": "python3"
  },
  "language_info": {
   "codemirror_mode": {
    "name": "ipython",
    "version": 3
   },
   "file_extension": ".py",
   "mimetype": "text/x-python",
   "name": "python",
   "nbconvert_exporter": "python",
   "pygments_lexer": "ipython3",
   "version": "3.13.0"
  }
 },
 "nbformat": 4,
 "nbformat_minor": 2
}
