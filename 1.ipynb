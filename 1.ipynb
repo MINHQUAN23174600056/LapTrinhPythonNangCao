{
 "cells": [
  {
   "cell_type": "code",
   "execution_count": null,
   "metadata": {},
   "outputs": [
    {
     "name": "stdout",
     "output_type": "stream",
     "text": [
      "Đối số là:  10\n",
      "Đây là luồng đang chạy\n"
     ]
    }
   ],
   "source": [
    "import threading\n",
    "def my_function(arg):\n",
    "# Công việc của luồng\n",
    "    print(\"Đối số là: \",arg)\n",
    "    print(\"Đây là luồng đang chạy!!\")\n",
    "my_thread = threading.Thread(target=my_function, args=(10,))\n",
    "my_thread.start()\n"
   ]
  },
  {
   "cell_type": "code",
   "execution_count": 3,
   "metadata": {},
   "outputs": [
    {
     "name": "stdout",
     "output_type": "stream",
     "text": [
      "Square: 100\n",
      "Cube: 1000\n",
      "Main loop: 0\n",
      "Main loop: 1\n",
      "Main loop: 2\n",
      "Main loop: 3\n",
      "Main loop: 4\n",
      "Done!\n"
     ]
    }
   ],
   "source": [
    "import threading\n",
    "def print_cube(num):\n",
    "# function to print cube of given num\n",
    "    print(\"Cube: {}\".format(num * num * num))\n",
    "def print_square(num):\n",
    "# function to print square of given num\n",
    "    print(\"Square: {}\".format(num * num))\n",
    "if __name__ == \"__main__\":\n",
    "# creating thread\n",
    "    t1 = threading.Thread(target=print_square, args=(10,))\n",
    "    t2 = threading.Thread(target=print_cube, args=(10,))\n",
    "# start the threads\n",
    "    t1.start()\n",
    "    t2.start()\n",
    "# wait until both threads finish\n",
    "    t1.join()\n",
    "    t2.join()\n",
    "# continue with the main loop\n",
    "    for i in range(5):\n",
    "        print(\"Main loop: {}\".format(i))\n",
    "    print(\"Done!\")\n"
   ]
  },
  {
   "cell_type": "code",
   "execution_count": 4,
   "metadata": {},
   "outputs": [
    {
     "name": "stdout",
     "output_type": "stream",
     "text": [
      "Square: 100\n",
      "Cube: 1000\n",
      "Main loop: 0\n",
      "Main loop: 1\n",
      "Main loop: 2\n",
      "Main loop: 3\n",
      "Main loop: 4\n",
      "Done!\n"
     ]
    }
   ],
   "source": [
    "import threading\n",
    "class PrintThread(threading.Thread):\n",
    "    def __init__(self, num):\n",
    "        super().__init__()\n",
    "        self.num = num\n",
    "    def run(self):\n",
    "        self.print_square()\n",
    "        self.print_cube()\n",
    "    def print_cube(self):\n",
    "# function to print cube of given num\n",
    "        print(\"Cube: {}\".format(self.num * self.num * self.num))\n",
    "    def print_square(self):\n",
    "# function to print square of given num\n",
    "        print(\"Square: {}\".format(self.num * self.num))\n",
    "if __name__ == \"__main__\":\n",
    "# creating thread\n",
    "    t = PrintThread(10)\n",
    "# start the thread\n",
    "    t.start()\n",
    "# wait until the thread finishes\n",
    "    t.join()\n",
    "# continue with the main loop\n",
    "    for i in range(5):\n",
    "        print(\"Main loop: {}\".format(i))\n",
    "print(\"Done!\")"
   ]
  },
  {
   "cell_type": "code",
   "execution_count": 5,
   "metadata": {},
   "outputs": [
    {
     "name": "stdout",
     "output_type": "stream",
     "text": [
      "ID của luồng đang thực thi trong chương trình chính: 6112\n",
      "Tên của luồng chính: MainThread\n",
      "Gắn tác vụ 1 đến luồng: t1\n",
      "ID của tiến trình chạy task 1: 6112\n",
      "Gắn tác vụ 1 đến luồng: t2\n",
      "ID của tiến trình chạy task 2: 6112\n"
     ]
    }
   ],
   "source": [
    "# Chương trình minh họa khái niệm luồng 'Threading'\n",
    "import threading\n",
    "import os \n",
    "def task1():\n",
    "    print(\"Gắn tác vụ 1 đến luồng: {}\".\n",
    " format(threading.current_thread().name))\n",
    "    print(\"ID của tiến trình chạy task 1: {}\".format(os.getpid()))\n",
    "def task2():\n",
    "    print(\"Gắn tác vụ 1 đến luồng: {}\".\n",
    " format(threading.current_thread().name))\n",
    "    print(\"ID của tiến trình chạy task 2: {}\".format(os.getpid()))\n",
    "if __name__ == \"__main__\":\n",
    " # In ra ID của luồng hiện thời\n",
    "    print(\"ID của luồng đang thực thi trong chương trình chính: {}\".\n",
    " format(os.getpid()))\n",
    "# in ra tên luồng chính\n",
    "    print(\"Tên của luồng chính: {}\".\n",
    " format(threading.current_thread().name))\n",
    "# Tạo các luồng\n",
    "    t1 = threading.Thread(target=task1, name='t1')\n",
    "    t2 = threading.Thread(target=task2, name='t2')\n",
    "# Bắt đầu các luồng:\n",
    "    t1.start()\n",
    "    t2.start()\n",
    "# Chờ cho đến khi các luồng kết thúc:\n",
    "    t1.join()\n",
    "    t2.join()"
   ]
  },
  {
   "cell_type": "code",
   "execution_count": 6,
   "metadata": {},
   "outputs": [
    {
     "name": "stdout",
     "output_type": "stream",
     "text": [
      "ID của tiến trình chính: 6112\n",
      "Tên của luồng chính: MainThread\n",
      "\n",
      "--- Thực thi tuần tự ---\n",
      "Gắn tác vụ 1 đến luồng:MainThread\n",
      "ID của tiến trình chạy task 1: 6112\n",
      "Task 1 hoàn thành\n",
      "Gắn tác vụ 2 đến luồng: MainThread\n",
      "ID của tiến trình chạy task 2: 6112\n",
      "Task 2 hoàn thành\n",
      "Thời gian thực thi tuần tự: 5.00 giây\n",
      "\n",
      "--- Thực thi với luồng ---\n",
      "Gắn tác vụ 1 đến luồng:t1\n",
      "ID của tiến trình chạy task 1: 6112\n",
      "Gắn tác vụ 2 đến luồng: t2\n",
      "ID của tiến trình chạy task 2: 6112\n",
      "Task 1 hoàn thành\n",
      "Task 2 hoàn thành\n",
      "Thời gian thực thi với luồng: 3.01 giây\n"
     ]
    }
   ],
   "source": [
    "import threading\n",
    "import os\n",
    "import time\n",
    "def task1():\n",
    "    print(\"Gắn tác vụ 1 đến luồng:{}\".format(threading.current_thread().name))\n",
    "    print(\"ID của tiến trình chạy task 1: {}\".format(os.getpid()))\n",
    "    time.sleep(2) # Mô phỏng công việc mất 2 giây\n",
    "    print(\"Task 1 hoàn thành\")\n",
    "def task2():\n",
    "    print(\"Gắn tác vụ 2 đến luồng: {}\".format(threading.current_thread().name))\n",
    "    print(\"ID của tiến trình chạy task 2: {}\".format(os.getpid()))\n",
    "    time.sleep(3) # Mô phỏng công việc mất 3 giây\n",
    "    print(\"Task 2 hoàn thành\")\n",
    "if __name__ == \"__main__\":\n",
    "    print(\"ID của tiến trình chính: {}\".format(os.getpid()))\n",
    "    print(\"Tên của luồng chính: {}\".format(threading.current_thread().name))\n",
    "# Kiểm tra thời gian thực thi không dùng luồng\n",
    "    start_time = time.time()\n",
    "    print(\"\\n--- Thực thi tuần tự ---\")\n",
    "    task1()\n",
    "    task2()\n",
    "    sequential_time = time.time() - start_time\n",
    "    print(\"Thời gian thực thi tuần tự: {:.2f} giây\".format(sequential_time))\n",
    "# Kiểm tra thời gian thực thi dùng luồng\n",
    "    start_time = time.time()   \n",
    "    print(\"\\n--- Thực thi với luồng ---\")\n",
    "    t1 = threading.Thread(target=task1, name='t1')\n",
    "    t2 = threading.Thread(target=task2, name='t2')\n",
    "    t1.start()\n",
    "    t2.start()\n",
    "    t1.join()\n",
    "    t2.join()\n",
    "    threaded_time = time.time() - start_time\n",
    "    print(\"Thời gian thực thi với luồng: {:.2f} giây\".format(threaded_time))\n"
   ]
  },
  {
   "cell_type": "code",
   "execution_count": 9,
   "metadata": {},
   "outputs": [
    {
     "name": "stdout",
     "output_type": "stream",
     "text": [
      "Lần lặp 0: x = 200000\n",
      "Lần lặp 1: x = 200000\n",
      "Lần lặp 2: x = 200000\n",
      "Lần lặp 3: x = 200000\n",
      "Lần lặp 4: x = 200000\n",
      "Lần lặp 5: x = 200000\n",
      "Lần lặp 6: x = 200000\n",
      "Lần lặp 7: x = 200000\n",
      "Lần lặp 8: x = 200000\n",
      "Lần lặp 9: x = 200000\n"
     ]
    }
   ],
   "source": [
    "import threading\n",
    "# global variable x\n",
    "x = 0\n",
    "#Viết hàm increment(), tăng giá trị biến toàn cục x\n",
    "def increment(): \n",
    "    global x\n",
    "    x += 1\n",
    "#Hàm theread_task() thực hiện tác vụ luồng, thực hiện gọi hàm \n",
    "# increment() 100000 lần.'''\n",
    "def thread_task(): \n",
    "    for _ in range(100000):\n",
    "        increment()\n",
    "#Hàm main_task(): thực hiện nhiệm vụ chính của chương trình. \n",
    "#Nó đặt giá trị của biến toàn cục x=0, tạo hai luồng (t1 và t2) \n",
    "# để thực thi công việc trong thread_task().\n",
    "def main_task():\n",
    "    global x\n",
    "    x = 0\n",
    "# creating threads\n",
    "    t1 = threading.Thread(target=thread_task)\n",
    "    t2 = threading.Thread(target=thread_task)\n",
    "# start threads\n",
    "    t1.start()\n",
    "    t2.start()\n",
    "# wait until threads finish their job\n",
    "    t1.join()\n",
    "    t2.join()\n",
    "#Chương trình chạy vòng lặp 10 lần, \n",
    "#trong mỗi lần lặp gọi main_task() để thực hiện công việc.\n",
    "#Sau đó in giá trị x ở mỗi lần lặp ra màn hình.\n",
    "for i in range(10):\n",
    "    main_task()\n",
    "    print(\"Lần lặp {0}: x = {1}\".format(i, x))"
   ]
  },
  {
   "cell_type": "code",
   "execution_count": 10,
   "metadata": {},
   "outputs": [
    {
     "name": "stdout",
     "output_type": "stream",
     "text": [
      "Lần lặp 0: x = 200000\n",
      "Lần lặp 1: x = 200000\n",
      "Lần lặp 2: x = 200000\n",
      "Lần lặp 3: x = 200000\n",
      "Lần lặp 4: x = 200000\n",
      "Lần lặp 5: x = 200000\n",
      "Lần lặp 6: x = 200000\n",
      "Lần lặp 7: x = 200000\n",
      "Lần lặp 8: x = 200000\n",
      "Lần lặp 9: x = 200000\n"
     ]
    }
   ],
   "source": [
    "import threading\n",
    "# Khai báo biến toàn cục x và gán giá trị ban đầu là 0.\n",
    "x = 0\n",
    "#Viết hàm increment(), tăng giá trị biến toàn cục x\n",
    "def increment():\n",
    "    global x\n",
    "    x += 1\n",
    "#Hàm theread_task() thực hiện tác vụ luồng, trong task vụ này, \n",
    "# luồng sẽ lặp lại 100000 lần.\n",
    "def thread_task(lock):\n",
    "    for _ in range(100000): \n",
    "        lock.acquire() #Yêu cầu lock bằng cách gọi phương thức lock.acquire\n",
    "        increment() #Tăng giá trị của x bằng cách gọi phương thức increment()\n",
    "        lock.release() #Giải phóng lock bằng cách gọi phương thức lock.release()\n",
    "#Định nghĩa hàm main_task() là tác vụ chính của chương trình. \n",
    "def main_task():\n",
    "    global x\n",
    "    x = 0 #Đặt biến toàn cục x=0.\n",
    "# creating a lock\n",
    "    lock = threading.Lock() # tạo ra một lock bằng cách gọi threading.Lock().\n",
    "# Tạo mới 2 luồng t1, t2 và chạy cùng một lúc, mỗi luồng gọi hàm thread_task() với\n",
    "# đối số lock.\n",
    "    t1 = threading.Thread(target=thread_task, args=(lock,))\n",
    "    t2 = threading.Thread(target=thread_task, args=(lock,))\n",
    " # start threads\n",
    "    t1.start()\n",
    "    t2.start()\n",
    "# Chờ cho đến khi các luồng kết thúc công việc\n",
    "    t1.join()\n",
    "    t2.join()\n",
    "if __name__ == \"__main__\":#Kiểm tra module đang được chạy là \n",
    "   # module chính hay không.\n",
    "    for i in range(10): # Vòng lặp for chạy 10 lần\n",
    "        main_task() # Mỗi lần lặp main_task() được gọi\n",
    "        print(\"Lần lặp {0}: x = {1}\".format(i,x))\n"
   ]
  },
  {
   "cell_type": "code",
   "execution_count": null,
   "metadata": {},
   "outputs": [],
   "source": [
    "import threading\n",
    "class ATM:\n",
    "    def __init__(self):\n",
    "        self.semaphore = threading.Semaphore(1)\n",
    "    def withdraw(self, amount):\n",
    "        self.semaphore.acquire()\n",
    "# Thực hiện giao dịch rút tiền\n",
    "        print(f\"Đã rút {amount} ngàn từ máy ATM\")\n",
    "        self.semaphore.release()\n",
    "    def main():\n",
    "        atm = ATM()\n",
    "# Tạo 10 luồng\n",
    "        for i in range(10):\n",
    "            threading.Thread(target=atm.withdraw, args=(100,)).start()\n",
    "if __name__ == \"__main__\":\n",
    "    main()\n",
    "\n"
   ]
  }
 ],
 "metadata": {
  "kernelspec": {
   "display_name": "Python 3",
   "language": "python",
   "name": "python3"
  },
  "language_info": {
   "codemirror_mode": {
    "name": "ipython",
    "version": 3
   },
   "file_extension": ".py",
   "mimetype": "text/x-python",
   "name": "python",
   "nbconvert_exporter": "python",
   "pygments_lexer": "ipython3",
   "version": "3.13.0"
  }
 },
 "nbformat": 4,
 "nbformat_minor": 2
}
