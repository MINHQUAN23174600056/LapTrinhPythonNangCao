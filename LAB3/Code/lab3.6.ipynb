{
 "cells": [
  {
   "cell_type": "markdown",
   "metadata": {},
   "source": [
    "# LAB 3.6: TẠO VÀ PHÂN TÍCH PIVOT TABLE\n",
    "1. Tạo Pivot Table từ DataFrame stocks với date làm chỉ mục, symbol làm cột, và giá \n",
    "trị trung bình của close làm giá trị"
   ]
  },
  {
   "cell_type": "code",
   "execution_count": 1,
   "metadata": {},
   "outputs": [
    {
     "name": "stdout",
     "output_type": "stream",
     "text": [
      "symbol      AAPL     AMZN      FB     GOOG    TSLA\n",
      "date                                              \n",
      "01-03-19  174.97  1671.73  162.28  1140.99  294.79\n",
      "04-03-19  175.85  1696.17  167.37  1147.80  285.36\n",
      "05-03-19  175.53  1692.43  171.26  1162.03  276.54\n",
      "06-03-19  174.52  1668.95  172.51  1157.86  276.24\n",
      "07-03-19  172.50  1625.95  169.13  1143.30  276.59\n"
     ]
    }
   ],
   "source": [
    "import pandas as pd\n",
    "stocks1 = pd.read_csv('C:/17A1DHKL/LAB3/DATA/stocks1.csv')\n",
    "stocks2 = pd.read_csv('C:/17A1DHKL/LAB3/DATA/stocks2.csv')\n",
    "stocks = pd.concat([stocks1, stocks2], ignore_index=True)\n",
    "# Tạo Pivot Table với date làm chỉ mục, symbol làm cột, và giá trị trung bình close\n",
    "pivot_table = stocks.pivot_table(\n",
    "    index='date', \n",
    "    columns='symbol', \n",
    "    values='close', \n",
    "    aggfunc='mean')\n",
    "print(pivot_table)"
   ]
  },
  {
   "cell_type": "markdown",
   "metadata": {},
   "source": [
    "2. Thêm một cột tính tổng volume giao dịch cho mỗi mã chứng khoán (symbol) "
   ]
  },
  {
   "cell_type": "code",
   "execution_count": 2,
   "metadata": {},
   "outputs": [
    {
     "name": "stdout",
     "output_type": "stream",
     "text": [
      "symbol      AAPL     AMZN      FB     GOOG    TSLA  Total Volume\n",
      "date                                                            \n",
      "01-03-19  174.97  1671.73  162.28  1140.99  294.79           NaN\n",
      "04-03-19  175.85  1696.17  167.37  1147.80  285.36           NaN\n",
      "05-03-19  175.53  1692.43  171.26  1162.03  276.54           NaN\n",
      "06-03-19  174.52  1668.95  172.51  1157.86  276.24           NaN\n",
      "07-03-19  172.50  1625.95  169.13  1143.30  276.59           NaN\n"
     ]
    }
   ],
   "source": [
    "# Tính tổng volume giao dịch cho mỗi symbol\n",
    "total_volume = stocks.groupby('symbol')['volume'].sum()\n",
    "# Thêm cột tổng volume vào Pivot Table\n",
    "pivot_table['Total Volume'] = total_volume\n",
    "print(pivot_table)"
   ]
  },
  {
   "cell_type": "markdown",
   "metadata": {},
   "source": [
    "3. Sắp xếp Pivot Table dựa trên tổng volume giao dịch, từ cao xuống thấp và hiển thị kết quả cho 5 mã chứng khoán có tổng volume giao dịch cao nhất"
   ]
  },
  {
   "cell_type": "code",
   "execution_count": 3,
   "metadata": {},
   "outputs": [
    {
     "name": "stdout",
     "output_type": "stream",
     "text": [
      "symbol      AAPL     AMZN      FB     GOOG    TSLA  Total Volume\n",
      "date                                                            \n",
      "01-03-19  174.97  1671.73  162.28  1140.99  294.79           NaN\n",
      "04-03-19  175.85  1696.17  167.37  1147.80  285.36           NaN\n",
      "05-03-19  175.53  1692.43  171.26  1162.03  276.54           NaN\n",
      "06-03-19  174.52  1668.95  172.51  1157.86  276.24           NaN\n",
      "07-03-19  172.50  1625.95  169.13  1143.30  276.59           NaN\n"
     ]
    }
   ],
   "source": [
    "sorted_pivot_table = pivot_table.sort_values(by='Total Volume', ascending=False)\n",
    "print(sorted_pivot_table.head())"
   ]
  }
 ],
 "metadata": {
  "kernelspec": {
   "display_name": "Python 3",
   "language": "python",
   "name": "python3"
  },
  "language_info": {
   "codemirror_mode": {
    "name": "ipython",
    "version": 3
   },
   "file_extension": ".py",
   "mimetype": "text/x-python",
   "name": "python",
   "nbconvert_exporter": "python",
   "pygments_lexer": "ipython3",
   "version": "3.13.0"
  }
 },
 "nbformat": 4,
 "nbformat_minor": 2
}
